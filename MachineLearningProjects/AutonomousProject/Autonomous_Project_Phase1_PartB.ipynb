{
  "cells": [
    {
      "cell_type": "markdown",
      "source": [
        "# Part A - Pseudo code"
      ],
      "metadata": {
        "id": "MOjrDchEFXzP"
      }
    },
    {
      "cell_type": "markdown",
      "source": [
        "\n",
        "\n",
        "```\n",
        "# Importing Matplotlib library and NetworkX library for Fig1A and Fig1B Visualization and operations\n",
        "# Defining constants and creating the initial directed graph for Figure 1A\n",
        "num_nodes = #nodes value\n",
        "G_A = CreateDirectedGraph(num_nodes)\n",
        "\n",
        "# Adding edges with capacities and flows for Figure 1A\n",
        "G_A.add_edges_from(edge_data_A)  # Adding edges to the graph with associated capacity and flow information.\n",
        "\n",
        "# Define the hill climbing algorithm to optimize the graph\n",
        "function HillClimbing(G):\n",
        "    while True:\n",
        "        for var1, var2 in G.edges:  # Iterate through the edges of the graph.\n",
        "            capacity = G[var1][var2]['capacity']  # Retrieve the capacity of the edge.\n",
        "            flow = G[var1][var2]['flow']  # Retrieve the current flow on the edge.\n",
        "            if flow < capacity:  # If the flow is less than the capacity, there is room for improvement.\n",
        "                G[var1][v]['flow'] = capacity  # Optimize the flow to match the capacity.\n",
        "                improved = True  # Set the 'improved' flag to True.\n",
        "        if not improved:  # If no improvements were made in the iteration, exit the loop.\n",
        "            break\n",
        "\n",
        "# Applying hill climbing to optimize the flow in Figure 1A\n",
        "HillClimbing(G_A)  # Calling the hill climbing algorithm to optimize the flow in the graph.\n",
        "\n",
        "# Creating a copy of the optimized graph for Figure 1B\n",
        "G_B = CopyGraph(G_A)  # Creating a copy of the optimized graph for further visualization.\n",
        "\n",
        "# Defining a function to visualize the graph\n",
        "function VisualizeGraph(graph, title):\n",
        "    pos = DefineLayout(graph)  # Define the layout for graph visualization.\n",
        "    SetFigureSize(number, number)  # Set the figure size for the plot.\n",
        "    DrawNodes(grafh, position)  # visualize node points.\n",
        "    DrawEdges(grafh, position)  # visualize edges of graph.\n",
        "    SetTitle(title)  # Set the title for the graph.\n",
        "    ShowPlot()  # Display the graph.\n",
        "# Visualize the original graph (Figure 1A)\n",
        "visualize_graph(G_A, \"Figure 1A: Flow into T before optimization\")  # Visualize the original graph.\n",
        "# Visualize the optimized graph (Figure 1B)\n",
        "visualize_graph(G_B, \"Figure 1B: Flow into T after optimization with hill climbing\")  # Visualize the optimized graph.\n",
        "\n",
        "# Calculate total flow value for Figure 1A\n",
        "total_flow_A = CalculateTotalFlow(G_A)# Calculate the total flow in the original graph.\n",
        "\n",
        "# Calculate total flow value for Figure 1B\n",
        "total_flow_B = CalculateTotalFlow(G_B)   # Calculate the total flow in the optimized graph.\n",
        "\n",
        "# Check if the total flow values for Figure 1A and Figure 1B match.\n",
        "if total_flow_A == total_flow_B:\n",
        "    Print('success')  # Print a success message.\n",
        "else:\n",
        "    Print(\"failed\")  # Print a failure message.\n",
        "\n",
        "# Pseudo code for Heuristic Function for HC Algorithm\n",
        "Function heuristic(node, graph)\n",
        "    h_values = []  # Create a blank list to hold the values for your heuristics.\n",
        "    for child in graph.successors(node): # Calculate the remaining capacity for each child node of the current node\n",
        "        remaining_capacity = graph[node][child]['capacity'] - graph[node][child]['flow']\n",
        "        h_values.append(remaining_capacity)  # Calculate and store remaining capacity\n",
        "\n",
        "    if h_values is empty:\n",
        "        return -1  # Return a negative value when no remaining capacity\n",
        "    else:\n",
        "        return max(h_values)  # Return the maximum remaining capacity among children\n",
        "        # The heuristic function assesses the remaining capacity of outgoing edges from a given node.\n",
        "# Define the select_child function for the HC algorithm\n",
        "Function select_child(h_values): # The select_child function chooses a child node to move to based on heuristic values and random selection.\n",
        "\n",
        "\n",
        "# Pseudo code for Successor Function for HC Algorithm\n",
        "Function successor(node, graph)\n",
        "    successors = []  # Initialize an empty list to store child nodes\n",
        "        successors.append(child)  # Add each child node to the list\n",
        "    return successors  # Give the current node's immediate children as a list.\n",
        "    # A list of the immediate children of the current node is retrieved and returned by the successor function.\n",
        "# Remove redundant paths\n",
        " successors = remove_redundant_paths(successors)\n",
        "\n",
        "\n",
        "# Pseudo code for Hill Climbing Algorithm\n",
        "Function hill_climbing(source, sink, graph)\n",
        "    current_node = source  # Initialize the current node with the source node\n",
        "    current_path = []  # Create an empty list from scratch to hold the path.\n",
        "\n",
        "    while current_node is not equal to sink:\n",
        "        h_values = []  # Create a blank list to hold the values for your heuristics.\n",
        "        successors = successor(current_node, graph)  # Get the immediate child nodes\n",
        "        for child in successors:\n",
        "            h_values.append(heuristic(current_node, graph))  # Calculate heuristic values for children\n",
        "        if all(h <= 0 for h in h_values):\n",
        "            break  # Local minimum reached, break out of the loop\n",
        "         # Select a child node to move to based on the select_child function\n",
        "        i = select_child(h_values)  # Use the select_child function to choose a child node\n",
        "        next_node = successors[i]  # Select the next node based on the chosen child\n",
        "        current_node = next_node  # Update the current node\n",
        "        current_path.append((current_node, graph[current_node]))  # Append the current node to the path\n",
        "        # The hill_climbing function performs the hill-climbing algorithm to find a path from the source to the sink node in the graph.\n",
        "    return current_path  # Return the path from source to sink\n",
        "\n",
        "# Calculate the total flow using the Edmonds-Karp algorithm\n",
        "R = EdmondsKarpAlgorithm(G, source, sink)  # Compute the maximum flow graph using Edmonds-Karp\n",
        "total_flow_ek = CalculateTotalFlow(R, source, sink)  # Calculate the total flow value\n",
        "\n",
        "#Average total flow for 30 graphs where average connectivity 3\n",
        "# Define the number of random graphs to generate\n",
        "num_graphs = #grafh count to 30\n",
        "# Initialize a variable to store the total flows from each random graph\n",
        "total_flows = #flow count to null\n",
        "# Loop through a range of 'num_graphs' and calculate the total flow for each graph\n",
        "for i in range(num_graphs):\n",
        "    total_flow = GenerateRandomGraphAndCalculateFlow()  # Generate a random graph and calculate its total flow\n",
        "# Calculate the average total flow by dividing the total flows by the number of graphs\n",
        "average_total_flow = total_flows / num_graphs\n",
        "\n",
        "#Average total flow for 30 graphs where average connectivity 2\n",
        "# Define the number of random graphs to generate\n",
        "num_graphs = #grapf count to 30\n",
        "# Create a blank list and fill it with the total flows from each random graph.\n",
        "total_flows = #flow count to null\n",
        "# Loop through a range of 'num_graphs' and calculate the total flow for each graph\n",
        "for i in range(num_graphs):\n",
        "    total_flow = GenerateAndCalculateRandomGraphFlow()  # Generate a random graph and calculate its total flow\n",
        "# Calculate the average total flow by dividing the sum of total flows by the number of graphs\n",
        "average_total_flow = sum(total_flows) / num_graphs\n",
        "\n",
        "\n",
        "```\n",
        "\n"
      ],
      "metadata": {
        "id": "AYyk04BFEfsG"
      }
    },
    {
      "cell_type": "markdown",
      "source": [
        "# Part-B"
      ],
      "metadata": {
        "id": "pmbjjgpSLmo8"
      }
    },
    {
      "cell_type": "code",
      "execution_count": null,
      "metadata": {
        "id": "ymemA0vftu8K"
      },
      "outputs": [],
      "source": [
        "import networkx as nx\n",
        "import random\n",
        "import matplotlib.pyplot as plt"
      ]
    },
    {
      "cell_type": "code",
      "source": [
        "def heuristic(node, graph):\n",
        "    h_values = []\n",
        "\n",
        "    # Calculate the remaining capacity for each child node of the current node\n",
        "    for child in graph.successors(node):\n",
        "        remaining_capacity = graph[node][child]['capacity'] - graph[node][child]['flow']\n",
        "        h_values.append(remaining_capacity)\n",
        "\n",
        "    if not h_values:\n",
        "        return -1  # Return a negative value when no remaining capacity is available\n",
        "\n",
        "    return max(h_values)"
      ],
      "metadata": {
        "id": "y7stxhzbq9H9"
      },
      "execution_count": null,
      "outputs": []
    },
    {
      "cell_type": "code",
      "source": [
        "def successor(node, graph):\n",
        "    # Return a list of immediate child nodes of the current node\n",
        "    return list(graph.successors(node))"
      ],
      "metadata": {
        "id": "qlNWbURWrRrB"
      },
      "execution_count": null,
      "outputs": []
    },
    {
      "cell_type": "code",
      "execution_count": null,
      "metadata": {
        "id": "v1R3A9jRtvw_"
      },
      "outputs": [],
      "source": [
        "def hc_algorithm(source, sink, graph):\n",
        "    # Initialize the current node as the source node\n",
        "    current_node = source\n",
        "    current_path = []  # Store the current path\n",
        "    total_flow = 0  # Initialize the total flow to zero\n",
        "\n",
        "    # Continue searching for augmenting paths until the current node reaches the sink\n",
        "    while current_node != sink:\n",
        "        h_values = []  # Initialize a list to store the remaining capacity of outgoing edges\n",
        "        successors = successor(current_node, graph)  # Find all successors of the current node\n",
        "\n",
        "        # Calculate the remaining capacity (h-values) for each outgoing edge\n",
        "        for child in successors:\n",
        "            #remaining_capacity = graph[current_node][child]['capacity'] - graph[current_node][child]['flow']\n",
        "            h_values.append(heuristic(current_node, graph))\n",
        "\n",
        "        # If there are no positive h-values, or remaining capacity, exit the loop\n",
        "        if all(h <= 0 for h in h_values):\n",
        "            break\n",
        "\n",
        "        # Select a child node to move to based on h-values\n",
        "        i = select_child(h_values)  # Implement the select_child function to choose the next node\n",
        "        next_node = successors[i]  # Get the chosen next node\n",
        "        flow_on_edge = min(h_values[i], graph[current_node][next_node]['capacity'])  # Determine the flow on the edge\n",
        "\n",
        "        # Update the flow on the selected edge\n",
        "        graph[current_node][next_node]['flow'] += flow_on_edge\n",
        "        current_node = next_node  # Move to the next node\n",
        "        current_path.append((current_node, graph[current_node]))  # Update the current path\n",
        "        total_flow += flow_on_edge  # Update the total flow with the flow on the edge\n",
        "\n",
        "    # Return the final path and total flow achieved\n",
        "    return current_path, total_flow"
      ]
    },
    {
      "cell_type": "code",
      "execution_count": null,
      "metadata": {
        "id": "JyAcgIAhtxmr"
      },
      "outputs": [],
      "source": [
        "def select_child(h_values):\n",
        "    # Calculate the total h-values or the sum of remaining capacities\n",
        "    total_h = sum(h_values)\n",
        "\n",
        "    # If total_h is zero, select a child randomly from the list\n",
        "    if total_h == 0:\n",
        "        return random.choice(range(len(h_values)))\n",
        "\n",
        "    # Generate a random value between 0 and the total_h\n",
        "    rand_val = random.uniform(0, total_h)\n",
        "    cumulative_sum = 0\n",
        "\n",
        "    # Iterate through the h-values to find the child node to select\n",
        "    for i, h in enumerate(h_values):\n",
        "        cumulative_sum += h\n",
        "        # If the random value falls within the cumulative range, return the corresponding child node\n",
        "        if rand_val <= cumulative_sum:\n",
        "            return i"
      ]
    },
    {
      "cell_type": "code",
      "execution_count": null,
      "metadata": {
        "id": "hDyXTWO7tzVt"
      },
      "outputs": [],
      "source": [
        "def visualize_graph(G, title):\n",
        "    # Generate a layout for the nodes in the graph\n",
        "    pos = nx.spring_layout(G)\n",
        "\n",
        "    # Create labels for edges using flow values\n",
        "    labels = {(i, j): G[i][j]['flow'] for i, j in G.edges()}\n",
        "\n",
        "    # Determine edge colors based on flow-to-capacity ratio\n",
        "    edge_colors = [G[i][j]['flow'] / G[i][j]['capacity'] for i, j in G.edges()]\n",
        "\n",
        "    # Create a single Matplotlib figure\n",
        "    fig, ax = plt.subplots()\n",
        "    ax.set_title(title)\n",
        "\n",
        "    # Draw the graph nodes with labels\n",
        "    nx.draw(G, pos, with_labels=True, node_size=1000, node_color='skyblue', font_size=8)\n",
        "\n",
        "    # Add edge labels with flow values\n",
        "    nx.draw_networkx_edge_labels(G, pos, edge_labels=labels, font_size=6, label_pos=0.5)\n",
        "\n",
        "    # Draw the edges with colors based on the flow-to-capacity ratio\n",
        "    nx.draw(G, pos, edgelist=G.edges(), edge_color=edge_colors, edge_cmap=plt.get_cmap('bwr'), width=2.0, arrows=True)\n",
        "\n",
        "    # Show the graph visualization\n",
        "    plt.show()"
      ]
    },
    {
      "cell_type": "markdown",
      "source": [
        "# R1: Visualize the solution for Figure 1B and calculate the total flow"
      ],
      "metadata": {
        "id": "rta6ebpHXvll"
      }
    },
    {
      "cell_type": "code",
      "execution_count": null,
      "metadata": {
        "id": "irDB005Xt1rU",
        "colab": {
          "base_uri": "https://localhost:8080/",
          "height": 654
        },
        "outputId": "f6478bda-6fb9-4174-8226-e08c870395e1"
      },
      "outputs": [
        {
          "output_type": "stream",
          "name": "stdout",
          "text": [
            "Node Pairs | Flow/Capacity\n",
            "---------------------------\n",
            "0 -> 1 | 2/6\n",
            "0 -> 2 | 3/3\n",
            "0 -> 3 | 4/5\n",
            "1 -> 2 | 1/5\n",
            "1 -> 4 | 1/3\n",
            "2 -> 4 | 2/9\n",
            "2 -> 5 | 4/8\n",
            "3 -> 2 | 2/2\n",
            "3 -> 4 | 2/3\n",
            "4 -> 5 | 4/5\n"
          ]
        },
        {
          "output_type": "display_data",
          "data": {
            "text/plain": [
              "<Figure size 640x480 with 1 Axes>"
            ],
            "image/png": "[encoded data removed]"
          },
          "metadata": {}
        },
        {
          "output_type": "stream",
          "name": "stdout",
          "text": [
            "Total flow into the sink node T (Figure 1A): 13\n"
          ]
        }
      ],
      "source": [
        "num_nodes = 6\n",
        "G_A = nx.DiGraph()\n",
        "\n",
        "# Define the graph for Figure 1A with edge data\n",
        "edge_data_A = [\n",
        "    (0, 1, {'capacity': 6, 'flow': 2}),\n",
        "    (0, 2, {'capacity': 3, 'flow': 3}),\n",
        "    (0, 3, {'capacity': 5, 'flow': 4}),\n",
        "    (1, 2, {'capacity': 5, 'flow': 1}),\n",
        "    (1, 4, {'capacity': 3, 'flow': 1}),\n",
        "    (2, 4, {'capacity': 9, 'flow': 2}),\n",
        "    (2, 5, {'capacity': 8, 'flow': 4}),\n",
        "    (3, 2, {'capacity': 2, 'flow': 2}),\n",
        "    (3, 4, {'capacity': 3, 'flow': 2}),\n",
        "    (4, 5, {'capacity': 5, 'flow': 4}),\n",
        "]\n",
        "\n",
        "G_A.add_nodes_from(range(num_nodes))\n",
        "G_A.add_edges_from(edge_data_A)\n",
        "\n",
        "# Apply HC algorithm to optimize flow in Figure 1A\n",
        "path_A, total_flow_A = hc_algorithm(0, num_nodes - 1, G_A)\n",
        "\n",
        "# Create a copy of the optimized graph for Figure 1B\n",
        "G_B = G_A.copy()\n",
        "\n",
        "print(\"Node Pairs | Flow/Capacity\")\n",
        "print(\"---------------------------\")\n",
        "\n",
        "for edge in edge_data_A:\n",
        "    node1, node2, data = edge\n",
        "    flow = data['flow']\n",
        "    capacity = data['capacity']\n",
        "    print(f\"{node1} -> {node2} | {flow}/{capacity}\")\n",
        "\n",
        "# Visualize the optimized graph for Figure 1B\n",
        "visualize_graph(G_B, \"Figure 1B: Flow into T after optimization with HC algorithm\")\n",
        "\n",
        "# Print the total flow into the sink node T for Figure 1A\n",
        "print(\"Total flow into the sink node T (Figure 1A):\", total_flow_A)"
      ]
    },
    {
      "cell_type": "markdown",
      "source": [
        "# R2: Run stochastic HC code on a graph G with Edmonds-Karp comparison"
      ],
      "metadata": {
        "id": "8-a34NcFX4nx"
      }
    },
    {
      "cell_type": "code",
      "execution_count": null,
      "metadata": {
        "id": "AfgmV6jit6cD",
        "colab": {
          "base_uri": "https://localhost:8080/"
        },
        "outputId": "3b33695e-1382-4625-b277-2a74cf250f08"
      },
      "outputs": [
        {
          "output_type": "stream",
          "name": "stdout",
          "text": [
            "Total flow value from HC algorithm: 54\n",
            "Optimal total flow value from Edmonds Karp algorithm: 5\n"
          ]
        }
      ],
      "source": [
        "# Number of nodes in the graph\n",
        "num_nodes = 30\n",
        "\n",
        "# Generate a random graph with 30 nodes and average connectivity of 3 (0.1 probability)\n",
        "G = nx.gnp_random_graph(num_nodes, 0.1, directed=True)\n",
        "\n",
        "# Initialize dictionaries to store capacities, inflow, and outflow for each node\n",
        "capacities = {}\n",
        "inflow = {}\n",
        "outflow = {}\n",
        "\n",
        "# Initialize capacities, inflow, and outflow dictionaries for each node\n",
        "for node in G.nodes:\n",
        "    capacities[node] = {}\n",
        "    inflow[node] = 0\n",
        "    outflow[node] = 0\n",
        "\n",
        "# Assign random capacities to edges in the range of 1 to 10\n",
        "for u, v in G.edges:\n",
        "    capacity = random.randint(1, 10)\n",
        "    G[u][v]['capacity'] = capacity\n",
        "\n",
        "# Assign random flow values to edges within the capacity range\n",
        "for edge in G.edges:\n",
        "    G[edge[0]][edge[1]]['flow'] = random.randint(1, G[edge[0]][edge[1]]['capacity'])\n",
        "\n",
        "# Source and sink nodes\n",
        "source = 0\n",
        "sink = num_nodes - 1\n",
        "\n",
        "total_flow_hc = 0\n",
        "current_node = source\n",
        "\n",
        "# Run Hill-Climbing (HC) algorithm to maximize flow\n",
        "while current_node != sink:\n",
        "    h_values = []\n",
        "    successors = list(G.successors(current_node))\n",
        "\n",
        "    # Calculate remaining capacities for each outgoing edge from the current node\n",
        "    for child in successors:\n",
        "        h_values.append(G[current_node][child]['capacity'] - G[current_node][child]['flow'])\n",
        "\n",
        "    # If all remaining capacities are non-positive, break the loop\n",
        "    if all(h <= 0 for h in h_values):\n",
        "        break\n",
        "\n",
        "    # Select a child node based on remaining capacities and update flow\n",
        "    i = select_child(h_values)\n",
        "    next_node = successors[i]\n",
        "    flow_on_edge = min(h_values[i], G[current_node][next_node]['capacity'])\n",
        "    G[current_node][next_node]['flow'] += flow_on_edge\n",
        "    current_node = next_node\n",
        "\n",
        "    # Update total flow for HC algorithm\n",
        "    total_flow_hc += flow_on_edge\n",
        "\n",
        "# Use Edmonds-Karp algorithm for comparison\n",
        "R = nx.algorithms.flow.edmonds_karp(G, source, sink)\n",
        "total_flow_ek = nx.maximum_flow_value(R, source, sink)\n",
        "\n",
        "# Print total flow values from HC and Edmonds-Karp algorithms\n",
        "print(\"Total flow value from HC algorithm:\", total_flow_hc)\n",
        "print(\"Optimal total flow value from Edmonds Karp algorithm:\", total_flow_ek)"
      ]
    },
    {
      "cell_type": "markdown",
      "source": [
        "# R3-a: Calculate the average total flow for random graphs with average connectivity of 3"
      ],
      "metadata": {
        "id": "DPom0nKrYCWV"
      }
    },
    {
      "cell_type": "code",
      "execution_count": null,
      "metadata": {
        "id": "7YezLZgQuVa0"
      },
      "outputs": [],
      "source": [
        "# Stochastic Hill Climbing Algorithm\n",
        "def stochastic_hc(N):\n",
        "    # Number of random graphs to generate and average\n",
        "    num_graphs = 30\n",
        "    total_flows_avg3 = []\n",
        "\n",
        "    for i in range(num_graphs):\n",
        "        num_nodes = 30\n",
        "\n",
        "        # Generate a random graph with 30 nodes and average connectivity of 3 (0.1 probability)\n",
        "        G = nx.gnp_random_graph(num_nodes, N/num_nodes, directed=True)\n",
        "        capacities = {}\n",
        "        inflow = {}\n",
        "        outflow = {}\n",
        "\n",
        "        for node in G.nodes:\n",
        "            capacities[node] = {}\n",
        "            inflow[node] = 0\n",
        "            outflow[node] = 0\n",
        "\n",
        "        # Assign random capacities to edges in the range of 1 to 10\n",
        "        for u, v in G.edges:\n",
        "            capacity = random.randint(1, 10)\n",
        "            G[u][v]['capacity'] = capacity\n",
        "\n",
        "        # Assign random flow values to edges within the capacity range\n",
        "        for edge in G.edges:\n",
        "            G[edge[0]][edge[1]]['flow'] = random.randint(1, G[edge[0]][edge[1]]['capacity'])\n",
        "\n",
        "        source = 0\n",
        "        sink = num_nodes - 1\n",
        "\n",
        "        total_flow_hc = 0\n",
        "        current_node = source\n",
        "\n",
        "        # Run Hill-Climbing (HC) algorithm to maximize flow\n",
        "        while current_node != sink:\n",
        "            h_values = []\n",
        "            successors = list(G.successors(current_node))\n",
        "\n",
        "            # Calculate remaining capacities for each outgoing edge from the current node\n",
        "            for child in successors:\n",
        "                h_values.append(G[current_node][child]['capacity'] - G[current_node][child]['flow'])\n",
        "\n",
        "            # If all remaining capacities are non-positive, break the loop\n",
        "            if all(h <= 0 for h in h_values):\n",
        "                break\n",
        "\n",
        "            # Select a child node based on remaining capacities and update flow\n",
        "            i = select_child(h_values)\n",
        "            next_node = successors[i]\n",
        "            flow_on_edge = min(h_values[i], G[current_node][next_node]['capacity'])\n",
        "            G[current_node][next_node]['flow'] += flow_on_edge\n",
        "            current_node = next_node\n",
        "\n",
        "            # Update total flow for HC algorithm\n",
        "            total_flow_hc += flow_on_edge\n",
        "\n",
        "        total_flows_avg3.append(total_flow_hc)\n",
        "\n",
        "    # Calculate the average total flow for average connectivity of 3\n",
        "    average_total_flow_avg3 = sum(total_flows_avg3) / num_graphs\n",
        "    return average_total_flow_avg3 # returns Average total flow for average connectivity 3"
      ]
    },
    {
      "cell_type": "markdown",
      "source": [
        "# R3-b: Calculate the average total flow for random graphs with average connectivity of 2"
      ],
      "metadata": {
        "id": "uEW3onQnYKyn"
      }
    },
    {
      "cell_type": "code",
      "execution_count": null,
      "metadata": {
        "id": "KWk_XtaUuX2T"
      },
      "outputs": [],
      "source": [
        "# Stochastic Hill Climbing Algorithm\n",
        "def stochastic_hc(N):\n",
        "    # Number of random graphs to generate and average\n",
        "    num_graphs = 30\n",
        "    total_flows_avg2 = []\n",
        "\n",
        "    for i in range(num_graphs):\n",
        "        num_nodes = 30\n",
        "\n",
        "        # Generate a random graph with 30 nodes and average connectivity of 2\n",
        "        G = nx.gnp_random_graph(num_nodes, N/num_nodes, directed=True)\n",
        "        capacities = {}\n",
        "        inflow = {}\n",
        "        outflow = {}\n",
        "\n",
        "        for node in G.nodes:\n",
        "            capacities[node] = {}\n",
        "            inflow[node] = 0\n",
        "            outflow[node] = 0\n",
        "\n",
        "        # Assign random capacities to edges in the range of 1 to 10\n",
        "        for u, v in G.edges:\n",
        "            capacity = random.randint(1, 10)\n",
        "            G[u][v]['capacity'] = capacity\n",
        "\n",
        "        # Assign random flow values to edges within the capacity range\n",
        "        for edge in G.edges:\n",
        "            G[edge[0]][edge[1]]['flow'] = random.randint(1, G[edge[0]][edge[1]]['capacity'])\n",
        "\n",
        "        source = 0\n",
        "        sink = num_nodes - 1\n",
        "\n",
        "        total_flow_hc = 0\n",
        "        current_node = source\n",
        "\n",
        "        # Run Hill-Climbing (HC) algorithm to maximize flow\n",
        "        while current_node != sink:\n",
        "            h_values = []\n",
        "            successors = list(G.successors(current_node))\n",
        "\n",
        "            # Calculate remaining capacities for each outgoing edge from the current node\n",
        "            for child in successors:\n",
        "                h_values.append(G[current_node][child]['capacity'] - G[current_node][child]['flow'])\n",
        "\n",
        "            # If all remaining capacities are non-positive, break the loop\n",
        "            if all(h <= 0 for h in h_values):\n",
        "                break\n",
        "\n",
        "            # Select a child node based on remaining capacities and update flow\n",
        "            i = select_child(h_values)\n",
        "            next_node = successors[i]\n",
        "            flow_on_edge = min(h_values[i], G[current_node][next_node]['capacity'])\n",
        "            G[current_node][next_node]['flow'] += flow_on_edge\n",
        "            current_node = next_node\n",
        "\n",
        "            # Update total flow for HC algorithm\n",
        "            total_flow_hc += flow_on_edge\n",
        "\n",
        "        total_flows_avg2.append(total_flow_hc)\n",
        "\n",
        "    # Calculate the average total flow for average connectivity of 3\n",
        "    average_total_flow_avg2 = sum(total_flows_avg2) / num_graphs\n",
        "    return average_total_flow_avg2 # returns Average total flow for average connectivity 3"
      ]
    },
    {
      "cell_type": "code",
      "execution_count": null,
      "metadata": {
        "colab": {
          "base_uri": "https://localhost:8080/"
        },
        "id": "Fb6o-b7OXoGO",
        "outputId": "058f09d8-3ddb-4907-f1c2-a2a035595a41"
      },
      "outputs": [
        {
          "output_type": "stream",
          "name": "stdout",
          "text": [
            "Average total flow for average connectivity 3: 18.966666666666665\n",
            "Average total flow for average connectivity 2: 9.0\n",
            "Average total flow for average connectivity 3 is greater.\n"
          ]
        }
      ],
      "source": [
        "tf_net_avg3 = stochastic_hc(3)\n",
        "tf_net_avg2 = stochastic_hc(2)\n",
        "print(\"Average total flow for average connectivity 3:\", tf_net_avg3)\n",
        "print(\"Average total flow for average connectivity 2:\", tf_net_avg2)\n",
        "if tf_net_avg3 > tf_net_avg2:\n",
        "    print(\"Average total flow for average connectivity 3 is greater.\")\n",
        "elif tf_net_avg3 < tf_net_avg2:\n",
        "    print(\"Average total flow for average connectivity 2 is greater.\")\n",
        "else:\n",
        "    print(\"No significant difference between average connectivities.\")\n"
      ]
    },
    {
      "cell_type": "markdown",
      "source": [
        "# R3-C"
      ],
      "metadata": {
        "id": "LzGiX-hGlmbu"
      }
    },
    {
      "cell_type": "markdown",
      "metadata": {
        "id": "wuLfokvFvGmH"
      },
      "source": [
        "The significant difference observed between the average total flow values for graphs with average connectivity of 3 (tf_net_avg(3)) and graphs with average connectivity of 2 (tf_net_avg(2)) can be attributed to several key factors.\n",
        "\n",
        "Firstly, the average connectivity of a graph plays a pivotal role in determining the flow characteristics. In the case of higher average connectivity (3 in this instance), there are a greater number of available pathways for flow to traverse. This abundance of routes leads to an increased total flow value as compared to situations with lower average connectivity (2), where fewer pathways limit the flow capacity.\n",
        "\n",
        "Secondly, the incorporation of randomness in the generation of random graphs with varying capacities and flows introduces an element of unpredictability. The unique configuration of each random graph can influence flow capacity and the optimal flow paths. As a result, certain random graphs with average connectivity 2 may feature configurations that allow for efficient flow, while others may not.\n",
        "\n",
        "Additionally, the choice of optimization algorithm is crucial. The Hill-Climbing (HC) algorithm employed in this context may not consistently discover the optimal flow, especially in graphs with reduced connectivity. Conversely, the Edmonds-Karp algorithm guarantees the identification of the optimal flow. The disparity in results between the HC algorithm and the Edmonds-Karp algorithm underscores the inherent limitations of the HC algorithm, particularly in graphs with lower connectivity.\n",
        "\n",
        "Lastly, it is important to acknowledge that the results are based on a relatively modest sample size, consisting of 30 random graphs for each level of connectivity. With a larger sample size, any disparities observed could potentially become more statistically significant.\n",
        "\n",
        "In summary, the discernible contrast in total flow values between graphs with average connectivity of 3 and 2 can be ascribed to the interplay of factors such as connectivity, randomness, algorithm choice, and the size of the sample used for analysis. Higher average connectivity generally affords more flow opportunities, resulting in higher average total flow values."
      ]
    }
  ],
  "metadata": {
    "colab": {
      "provenance": []
    },
    "kernelspec": {
      "display_name": "Python 3 (ipykernel)",
      "language": "python",
      "name": "python3"
    },
    "language_info": {
      "codemirror_mode": {
        "name": "ipython",
        "version": 3
      },
      "file_extension": ".py",
      "mimetype": "text/x-python",
      "name": "python",
      "nbconvert_exporter": "python",
      "pygments_lexer": "ipython3",
      "version": "3.10.9"
    }
  },
  "nbformat": 4,
  "nbformat_minor": 0
}